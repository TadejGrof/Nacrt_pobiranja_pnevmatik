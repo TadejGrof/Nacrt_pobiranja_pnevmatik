{
 "cells": [
  {
   "cell_type": "markdown",
   "metadata": {},
   "source": [
    "# Nacrt pobiranja izrabljenih pnevmatik na območju slovenije"
   ]
  },
  {
   "cell_type": "markdown",
   "metadata": {},
   "source": [
    "Najprej uvozimo vse zbirne centre, vulkanizerje ter servise v Sloveniji, s osnovnimi podatki (ime, naslov, regija, koordinate) ter razdelano potjo do določenega zbirnega centra. V našem primeru je zbirališče nekje na območju Brezovice v Ljubljani."
   ]
  },
  {
   "cell_type": "code",
   "execution_count": 42,
   "metadata": {},
   "outputs": [],
   "source": [
    "import pandas as pd\n",
    "import random\n",
    "from geopy.distance import distance\n",
    "\n",
    "zbirni_centri = pd.read_csv('Zajeti_podatki/komunale.csv')\n",
    "\n",
    "vulkanizerji = pd.read_csv('Zajeti_podatki/vulkanizerji_in_servisi.csv')\n",
    "\n",
    "pd.options.display.max_rows = 10"
   ]
  },
  {
   "cell_type": "markdown",
   "metadata": {},
   "source": [
    "Nato določimo konstante, ki jih bomo uporabljali pri nadaljnjih izračunih"
   ]
  },
  {
   "cell_type": "code",
   "execution_count": 43,
   "metadata": {},
   "outputs": [],
   "source": [
    "DELEZ_KAMIJONSKIH = 0.25\n",
    "STEVILO_ODPADNIH_LETNO = 16000 * (1 - DELEZ_KAMIJONSKIH) # V tonah\n",
    "DELEZ_ODPADNIH_V_KOMUNALAH = 0.1\n",
    "STEVILO_ODPADNIH_LETNO_VULKANIZERJI = STEVILO_ODPADNIH_LETNO * (1 - DELEZ_ODPADNIH_V_KOMUNALAH) # V tonah\n",
    "STEVILO_ODPADNIH_LETNO_KOMUNALE = STEVILO_ODPADNIH_LETNO * DELEZ_ODPADNIH_V_KOMUNALAH # V tonah\n",
    "\n",
    "TEŽA_PNEVMATIKE = 8 # V kilogramih\n",
    "\n",
    "KAPACITETA_KAMIJONA = 1200 # količinsko"
   ]
  },
  {
   "cell_type": "markdown",
   "metadata": {},
   "source": [
    "Ideja načrta je, da se razdeli vulkanizerje ter servise v razrede na podlagi letne količine pnevmatik. Člani višjih razredov dobijo svoj zabojnik, srednji in nižji razred pa si organizirata prevoz s kombiji do najbližjega zbirnega centra. "
   ]
  },
  {
   "cell_type": "markdown",
   "metadata": {},
   "source": [
    "Najbližji zbirni center posameznega vulkanizerja/servisa določimo na podlagi geografskih koordinat. Najbližji zbirni center je torej tisti, ki je od posameznika glede na letalsko linijo najmanj oddaljen. Za natančen izračun razdalj bomo uporabili knjižnico geopy."
   ]
  },
  {
   "cell_type": "code",
   "execution_count": 44,
   "metadata": {},
   "outputs": [],
   "source": [
    "def najblizji_center(koordinate):\n",
    "    zbirni_centri[\"razdalje\"] = zbirni_centri.apply(lambda x: float(distance(koordinate, x['koordinate']).km), axis=1)\n",
    "    index = zbirni_centri.razdalje.idxmin()\n",
    "    return index\n",
    "\n",
    "# za vsakega vulkanizerja nastavimo najblizji center \n",
    "# funkcija traja nekaj casa saj racuna za vsakega vse razdalje (30s)\n",
    "vulkanizerji['zbirni_center'] = vulkanizerji.koordinate.str.split(';').apply(najblizji_center)\n",
    "\n",
    "# izbrisemo nastali stolpec \n",
    "del zbirni_centri['razdalje']\n",
    "\n"
   ]
  },
  {
   "cell_type": "markdown",
   "metadata": {},
   "source": [
    "### Stroški prevoza"
   ]
  },
  {
   "cell_type": "markdown",
   "metadata": {},
   "source": [
    "Za izračun stroškov prevoza je potrebno upoštevati razdaljo za izračun stroškov goriva ter dolžino avtoceste za izračun stroškov cestnine.\n",
    "Za vsakega tako primerno pregledamo račlenjeno pot ter seštejemo razdlaje poti na avtocesti. "
   ]
  },
  {
   "cell_type": "code",
   "execution_count": 45,
   "metadata": {
    "scrolled": false
   },
   "outputs": [],
   "source": [
    "avtoceste = ['A1','A2','A3','A4','A5','A1:A2']\n",
    "\n",
    "def dolzina_avtoceste(pot):\n",
    "    avtocesta = 0\n",
    "    if isinstance(pot,str):\n",
    "        locena_pot = pot.split('--')\n",
    "        for delna_pot in locena_pot:\n",
    "            razbitje = delna_pot.split(\";\")\n",
    "            if razbitje[0] in avtoceste:\n",
    "                avtocesta += float(razbitje[1])\n",
    "    return avtocesta\n",
    "\n",
    "zbirni_centri['avtocesta'] = zbirni_centri.pot.apply(dolzina_avtoceste)\n",
    "vulkanizerji['avtocesta'] = vulkanizerji.pot.apply(dolzina_avtoceste)\n",
    "\n"
   ]
  },
  {
   "cell_type": "markdown",
   "metadata": {},
   "source": [
    "Določitev stroškov prevoza do posameznega vulkanizerja in zbirnega centra:"
   ]
  },
  {
   "cell_type": "code",
   "execution_count": 46,
   "metadata": {},
   "outputs": [],
   "source": [
    "CESTNINA = 0.428356\n",
    "PORABA_KAMIJONA = 40\n",
    "CENA_GORIVA = 1.242\n",
    "\n",
    "vulkanizerji['strosek_kamijona'] = 2 * vulkanizerji.dolzina * (PORABA_KAMIJONA / 100 * CENA_GORIVA) + 2 * CESTNINA * vulkanizerji.avtocesta\n",
    "zbirni_centri['strosek_kamijona'] = 2 * zbirni_centri.dolzina * (PORABA_KAMIJONA / 100 * CENA_GORIVA) + 2 * CESTNINA * zbirni_centri.avtocesta\n"
   ]
  },
  {
   "cell_type": "markdown",
   "metadata": {},
   "source": [
    "### Kategoriziranje"
   ]
  },
  {
   "cell_type": "markdown",
   "metadata": {},
   "source": [
    "Po načrtu bi vsak večji vulkanizer imel svoj zabojnik. Vulkanizerje razdelimo po velikost nakljucno v vsaki regiji posebej na podlagi podanih delezov vsake kategorije."
   ]
  },
  {
   "cell_type": "code",
   "execution_count": 47,
   "metadata": {},
   "outputs": [],
   "source": [
    "# DELEZI VULKANIZERJEV PO VELIKOSTI V VSAKI REGIJI:\n",
    "DELEZ_ZELO_VELIKIH = 0.1\n",
    "DELEZ_VELIKIH = 0.25\n",
    "DELEZ_SREDNJIH = 0.40\n",
    "DELEZ_MALIH = 0.25\n",
    "\n",
    "stevilo_vulkanizerjov = len(vulkanizerji.index)\n",
    "stevilo_komunal = len(zbirni_centri.index)\n",
    "\n",
    "indexi_velikosti = {index: None for index in vulkanizerji.index.unique().to_list()}\n",
    "\n",
    "regije = vulkanizerji.regija.unique().tolist()\n",
    "\n",
    "for regija in regije:\n",
    "    vulkanizerji_regije = vulkanizerji[vulkanizerji.regija == regija]\n",
    "    stevilo = len(vulkanizerji_regije.index)\n",
    "    indexi = vulkanizerji_regije.index.unique().tolist()\n",
    "    stevila = {\n",
    "        'Z': round(stevilo * DELEZ_ZELO_VELIKIH),\n",
    "        'V': round(stevilo * DELEZ_VELIKIH),\n",
    "        'M': round(stevilo * DELEZ_MALIH),\n",
    "        'S': stevilo - round(stevilo * DELEZ_VELIKIH) - round(stevilo * DELEZ_MALIH) - round(stevilo * DELEZ_ZELO_VELIKIH)\n",
    "    }\n",
    "    for velikost in stevila:\n",
    "        for n in range(stevila[velikost]):\n",
    "            index = random.choice(indexi)\n",
    "            indexi_velikosti[index] = velikost\n",
    "            indexi.remove(index)\n",
    "\n",
    "def dodaj_velikost(index):\n",
    "    return indexi_velikosti[index]\n",
    "\n",
    "vulkanizerji['velikost'] = vulkanizerji.index.to_series().apply(dodaj_velikost)\n",
    "\n"
   ]
  },
  {
   "cell_type": "markdown",
   "metadata": {},
   "source": [
    "Pri komunalah je malo drugače saj so za razliko od vulkanizerjev, katerih je v večjih mestih več, le te večje. Zato jih razdelimo v dva razreda na podlagi pripadajočega večjega mesta."
   ]
  },
  {
   "cell_type": "code",
   "execution_count": 48,
   "metadata": {},
   "outputs": [],
   "source": [
    "VEČJA_MESTA = ['Ljubljana',\"Maribor\",\"Celje\",\"Kranj\",\"Koper\",\"Novo mesto\"]\n",
    "\n",
    "def doloci_velikost_centra(mesto):\n",
    "    if mesto in VEČJA_MESTA:\n",
    "        return \"V\"\n",
    "    else:\n",
    "        return \"M\"\n",
    "\n",
    "zbirni_centri[\"velikost\"] = zbirni_centri.mesto.apply(doloci_velikost_centra)"
   ]
  },
  {
   "cell_type": "markdown",
   "metadata": {},
   "source": [
    "### Določitev letne količine"
   ]
  },
  {
   "cell_type": "markdown",
   "metadata": {},
   "source": [
    "Nadalnje je treba določiti letno količino posameznika. To naredimo tako, da določimo odstopanje posameznega razreda od letnega povprečja."
   ]
  },
  {
   "cell_type": "code",
   "execution_count": 49,
   "metadata": {},
   "outputs": [],
   "source": [
    "povprecje_letno = STEVILO_ODPADNIH_LETNO_VULKANIZERJI / stevilo_vulkanizerjov\n",
    "\n",
    "delezi = {'Z':3.5,'V':2,'S':0.8,'M':0.4}\n",
    "velikosti = ['Z','V','S','M']\n",
    "\n",
    "stevilo_po_velikosti = {velikost:0 for velikost in velikosti}\n",
    "\n",
    "for velikost in velikosti:\n",
    "    stevilo_po_velikosti[velikost] = (len(vulkanizerji[vulkanizerji.velikost == velikost]))\n",
    "\n",
    "letno = 0\n",
    "for velikost in velikosti:\n",
    "    letno += povprecje_letno * delezi[velikost] * stevilo_po_velikosti[velikost]\n",
    "\n",
    "razlika = povprecje_letno * stevilo_vulkanizerjov - letno\n",
    "for velikost in velikosti:\n",
    "    delezi[velikost] += 0.01 * razlika / povprecje_letno\n",
    "\n",
    "def vrni_letno_stevilo(velikost):\n",
    "    return round(povprecje_letno * delezi[velikost] * 1000 / TEŽA_PNEVMATIKE)\n",
    "\n",
    "vulkanizerji['letna_kolicina'] = vulkanizerji.velikost.apply(vrni_letno_stevilo)\n",
    "\n"
   ]
  },
  {
   "cell_type": "markdown",
   "metadata": {},
   "source": [
    "Na podoben način določimo letno kolicino posamezne komunale."
   ]
  },
  {
   "cell_type": "code",
   "execution_count": 50,
   "metadata": {},
   "outputs": [],
   "source": [
    "povprecje_letno = STEVILO_ODPADNIH_LETNO_KOMUNALE / stevilo_komunal\n",
    "\n",
    "delezi = {'V': 4, 'M':0.8}\n",
    "velikosti = ['V','M']\n",
    "\n",
    "# Stevilo clanov posamezne skupine velikosti:\n",
    "\n",
    "stevilo_po_velikosti = {velikost:0 for velikost in velikosti}\n",
    "\n",
    "for velikost in velikosti:\n",
    "    stevilo_po_velikosti[velikost] = (len(zbirni_centri[zbirni_centri.velikost == velikost]))\n",
    "\n",
    "# Popravek/Prilagoditev delezev:\n",
    "letno = 0\n",
    "for velikost in velikosti:\n",
    "    letno += povprecje_letno * delezi[velikost] * stevilo_po_velikosti[velikost]\n",
    "\n",
    "razlika = STEVILO_ODPADNIH_LETNO_KOMUNALE - letno\n",
    "for velikost in velikosti:\n",
    "    delezi[velikost] += 0.01 * razlika / povprecje_letno\n",
    "\n",
    "def vrni_letno_stevilo(velikost):\n",
    "    return round(povprecje_letno * delezi[velikost] * 1000 / TEŽA_PNEVMATIKE)\n",
    "\n",
    "zbirni_centri['letna_kolicina'] = zbirni_centri.velikost.apply(vrni_letno_stevilo)"
   ]
  },
  {
   "cell_type": "markdown",
   "metadata": {},
   "source": [
    "Ker vsi srednji in majhni vulkanizerji vozijo v najblizji zbirni center je treba vsakemu zbirnemu centru k letni kolicini pristeti se letno kolicino vseh pripadnih vulkanizerjev"
   ]
  },
  {
   "cell_type": "code",
   "execution_count": 51,
   "metadata": {},
   "outputs": [],
   "source": [
    "def sestevek_vulkanizerjev(index):\n",
    "    return vulkanizerji[\n",
    "    (vulkanizerji.zbirni_center == index) & ((vulkanizerji.velikost != \"V\") | (vulkanizerji.velikost != \"Z\"))\n",
    "    ].letna_kolicina.sum()\n",
    "\n",
    "zbirni_centri['letna_kolicina'] = zbirni_centri.letna_kolicina + zbirni_centri.index.map(sestevek_vulkanizerjev)\n"
   ]
  },
  {
   "cell_type": "markdown",
   "metadata": {},
   "source": [
    "## Izračun stroškov"
   ]
  },
  {
   "cell_type": "markdown",
   "metadata": {},
   "source": [
    "### Prevoz"
   ]
  },
  {
   "cell_type": "markdown",
   "metadata": {},
   "source": [
    "Sedaj ko imamo vse podatke lahko zacnemo racunati stroske prevoza."
   ]
  },
  {
   "cell_type": "code",
   "execution_count": 52,
   "metadata": {},
   "outputs": [],
   "source": [
    "# zdruzimo komunale in velike vulkanizerje\n",
    "\n",
    "veliki_vulkanizerji = vulkanizerji[(vulkanizerji.velikost == \"V\") & (vulkanizerji.velikost == \"Z\")]\n",
    "\n",
    "pobiranje = pd.concat([zbirni_centri,veliki_vulkanizerji],ignore_index=True, sort=False)\n",
    "\n",
    "pobiranje['letni_stroski'] = pobiranje.letna_kolicina // KAPACITETA_KAMIJONA * pobiranje.strosek_kamijona\n",
    "\n"
   ]
  },
  {
   "cell_type": "markdown",
   "metadata": {},
   "source": [
    "Stroske bomo racunali v odvisnosti od polmera pobiranja okoli zbirnega centra. Ustvarimo tabelo, katera pokaze stroske prevoza, kolicino pobranih pnevmatik, ter količino časa porabljenega na cesti v obdobju enega leta."
   ]
  },
  {
   "cell_type": "code",
   "execution_count": 58,
   "metadata": {},
   "outputs": [],
   "source": [
    "def stroski_na_razdalji(razdalja):\n",
    "    return pobiranje[pobiranje.dolzina <= razdalja].letni_stroski.sum()\n",
    "\n",
    "def stevilo_na_razdalji(razdalja):\n",
    "    return pobiranje[pobiranje.dolzina <= razdalja].letna_kolicina.sum()\n",
    "\n",
    "def trajanje_na_razdalji(razdlaja):\n",
    "    return (pobiranje[pobiranje.dolzina <= razdalja].trajanje * pobiranje.letna_kolicina // KAPACITETA_KAMIJONA * 2).sum()\n",
    "\n",
    "skupno = pd.DataFrame({'razdalja':[],'strosek':[],'stevilo':[],'trajanje':[]})\n",
    "\n",
    "i = 0\n",
    "for razdalja in range(0,201):\n",
    "    skupno.at[str(i),'razdalja'] = razdalja\n",
    "    skupno.at[str(i),'strosek'] = stroski_na_razdalji(razdalja)\n",
    "    skupno.at[str(i),'stevilo'] = stevilo_na_razdalji(razdalja)\n",
    "    skupno.at[str(i),'trajanje'] = trajanje_na_razdalji(razdalja) / 60\n",
    "    i+=1\n",
    "\n"
   ]
  },
  {
   "cell_type": "code",
   "execution_count": 59,
   "metadata": {},
   "outputs": [
    {
     "data": {
      "text/plain": [
       "<matplotlib.axes._subplots.AxesSubplot at 0x20cc6e08ac8>"
      ]
     },
     "execution_count": 59,
     "metadata": {},
     "output_type": "execute_result"
    },
    {
     "data": {
      "image/png": "[encoded data removed]",
      "text/plain": [
       "<Figure size 432x288 with 1 Axes>"
      ]
     },
     "metadata": {
      "needs_background": "light"
     },
     "output_type": "display_data"
    },
    {
     "data": {
      "image/png": "[encoded data removed]",
      "text/plain": [
       "<Figure size 432x288 with 1 Axes>"
      ]
     },
     "metadata": {
      "needs_background": "light"
     },
     "output_type": "display_data"
    },
    {
     "data": {
      "image/png": "[encoded data removed]",
      "text/plain": [
       "<Figure size 432x288 with 1 Axes>"
      ]
     },
     "metadata": {
      "needs_background": "light"
     },
     "output_type": "display_data"
    }
   ],
   "source": [
    "import matplotlib.pyplot as plt\n",
    "\n",
    "skupno.plot(x='razdalja',y=\"strosek\")\n",
    "skupno.plot(x='razdalja',y=\"stevilo\")\n",
    "skupno.plot(x=\"stevilo\",y=\"strosek\")"
   ]
  },
  {
   "cell_type": "markdown",
   "metadata": {},
   "source": [
    "Iz grafov je razvidno, da je večina slovenskih pnevmatik v radiju 100 kilometrov od zbirnega centra, torej od Ljubljane. \n",
    "Predvidevamo, da bi bil boljši izkoristek z dvema zbirnima centroma. Še bolj natančno pa bo to razvidno v nadaljevanju ko bomo izračunali prihodke takega sistema."
   ]
  },
  {
   "cell_type": "markdown",
   "metadata": {},
   "source": [
    "### Zaposleni"
   ]
  },
  {
   "cell_type": "markdown",
   "metadata": {},
   "source": [
    "Če določimo trajanje obdelave določene količine pnevmatik v urah, ter delež dobrih pnevmatik, s katerimi bi se ustvarjalo dobiček, lahko izračunamo še strošek zaposlenih."
   ]
  },
  {
   "cell_type": "code",
   "execution_count": 60,
   "metadata": {},
   "outputs": [],
   "source": [
    "DELEŽ_DOBRIH = 0.15\n",
    "\n",
    "POTREBEN_ČAS_ZA_OBDELAVO_DOBRIH = 30 # v urah na 1000 komadov\n",
    "POTREBEN_ČAS_ZA_OBDELAVO_NEUPORABNIH = 5 # v urah na 1000 komadov\n",
    "\n",
    "STROŠEK_ENE_URE = 10 # bruto placa zaposlenega v evrih na uro"
   ]
  },
  {
   "cell_type": "markdown",
   "metadata": {},
   "source": [
    "K že izačunanemu strošku prevoza dodamo še stroške plač zaposlenih pri obdelavi in plače voznikov kamijonov"
   ]
  },
  {
   "cell_type": "code",
   "execution_count": 61,
   "metadata": {},
   "outputs": [],
   "source": [
    "skupno['cas_obdelave'] = (\n",
    "    skupno['stevilo'] * DELEŽ_DOBRIH / 1000 * POTREBEN_ČAS_ZA_OBDELAVO_DOBRIH +\n",
    "    skupno['stevilo'] * (1 - DELEŽ_DOBRIH) / 1000 * POTREBEN_ČAS_ZA_OBDELAVO_NEUPORABNIH)\n",
    "    \n",
    "\n",
    "skupno['strosek'] = skupno['strosek'] + (skupno['cas_obdelave'] + skupno['trajanje']) * STROŠEK_ENE_URE\n"
   ]
  },
  {
   "cell_type": "markdown",
   "metadata": {},
   "source": [
    "## Prihodki"
   ]
  },
  {
   "cell_type": "markdown",
   "metadata": {},
   "source": [
    "Če določimo pričakov prihodek na eno dobro pnevmatiko lahko izračunamo prihodke v odvisnosti od radija pobiranja."
   ]
  },
  {
   "cell_type": "code",
   "execution_count": 62,
   "metadata": {},
   "outputs": [
    {
     "data": {
      "text/plain": [
       "<matplotlib.axes._subplots.AxesSubplot at 0x20cc6caed30>"
      ]
     },
     "execution_count": 62,
     "metadata": {},
     "output_type": "execute_result"
    },
    {
     "data": {
      "image/png": "[encoded data removed]",
      "text/plain": [
       "<Figure size 432x288 with 1 Axes>"
      ]
     },
     "metadata": {
      "needs_background": "light"
     },
     "output_type": "display_data"
    },
    {
     "data": {
      "image/png": "[encoded data removed]",
      "text/plain": [
       "<Figure size 432x288 with 1 Axes>"
      ]
     },
     "metadata": {
      "needs_background": "light"
     },
     "output_type": "display_data"
    }
   ],
   "source": [
    "PRIČAKOVAN_PRIHODEK = 1.5 # v evrih na eno dobro pnevmatiko\n",
    "\n",
    "skupno['prihodek'] = skupno['stevilo'] * DELEŽ_DOBRIH * PRIČAKOVAN_PRIHODEK\n",
    "\n",
    "skupno['dobiček'] = skupno['prihodek'] - skupno['strosek']\n",
    "\n",
    "skupno.plot(x='razdalja',y=\"strosek\")\n",
    "skupno.plot(x=\"razdalja\",y=\"dobiček\")"
   ]
  },
  {
   "cell_type": "markdown",
   "metadata": {},
   "source": [
    "## Zaključek"
   ]
  },
  {
   "cell_type": "markdown",
   "metadata": {},
   "source": [
    "Iz grafa je razvidno, da je najboljši radij pobiranja okoli 100km, zato sklepamo, da bi za uresničitev načrta in maksimizacijo prihodkov na območju celotne Slovenije, bilo potrebno odprti dve zbirališči, eno večje na jugo-zahodnem območju Ljubljane in drugo manjše na območju Maribora."
   ]
  }
 ],
 "metadata": {
  "kernelspec": {
   "display_name": "Python 3",
   "language": "python",
   "name": "python3"
  },
  "language_info": {
   "codemirror_mode": {
    "name": "ipython",
    "version": 3
   },
   "file_extension": ".py",
   "mimetype": "text/x-python",
   "name": "python",
   "nbconvert_exporter": "python",
   "pygments_lexer": "ipython3",
   "version": "3.7.2"
  }
 },
 "nbformat": 4,
 "nbformat_minor": 4
}
